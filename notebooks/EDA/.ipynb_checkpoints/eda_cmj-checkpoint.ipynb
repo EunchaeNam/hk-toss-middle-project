{
 "cells": [
  {
   "cell_type": "code",
   "execution_count": 1,
   "id": "4423a5c7-ece8-48c2-beba-8b602049f6b6",
   "metadata": {},
   "outputs": [],
   "source": [
    "# yup"
   ]
  },
  {
   "cell_type": "code",
   "execution_count": null,
   "id": "e81a48ea-65f5-4a29-9ef8-f197c21c9f16",
   "metadata": {},
   "outputs": [],
   "source": [
    "import pandas as pd"
   ]
  }
 ],
 "metadata": {
  "kernelspec": {
   "display_name": "Python [conda env:base] *",
   "language": "python",
   "name": "conda-base-py"
  },
  "language_info": {
   "codemirror_mode": {
    "name": "ipython",
    "version": 3
   },
   "file_extension": ".py",
   "mimetype": "text/x-python",
   "name": "python",
   "nbconvert_exporter": "python",
   "pygments_lexer": "ipython3",
   "version": "3.12.7"
  }
 },
 "nbformat": 4,
 "nbformat_minor": 5
}
